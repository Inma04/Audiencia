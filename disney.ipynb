{
 "cells": [
  {
   "cell_type": "markdown",
   "id": "35a7483a",
   "metadata": {},
   "source": [
    " # PELÍCULAS DISNEY A LO LARGO DEL TIEMPO"
   ]
  },
  {
   "cell_type": "markdown",
   "id": "246bb926",
   "metadata": {},
   "source": [
    "## Trabajo de Inmaculada Parreño Rueda"
   ]
  },
  {
   "cell_type": "markdown",
   "id": "4d3faf57",
   "metadata": {},
   "source": [
    "El proyecto lo realizaremos en torno a una tabla de datos sobre las peliculas que Disney ha sacado desde 1937 hasta 2016."
   ]
  },
  {
   "cell_type": "code",
   "execution_count": 1,
   "id": "cc1053a3",
   "metadata": {},
   "outputs": [],
   "source": [
    "import csv\n",
    "import statistics\n",
    "from matplotlib import pyplot as plt\n",
    "from collections import namedtuple"
   ]
  },
  {
   "cell_type": "markdown",
   "id": "ecd0717e",
   "metadata": {},
   "source": [
    "### 1. Lectura del Archivo csv"
   ]
  },
  {
   "cell_type": "code",
   "execution_count": 9,
   "id": "d98ee6c4",
   "metadata": {},
   "outputs": [],
   "source": [
    "def lee_peliculas(fichero):\n",
    "    disney = []\n",
    "    with open(fichero, encoding = 'utf-8') as f:\n",
    "        for linea in f:\n",
    "            movie_title, release_date, genre, mpaa_rating, total_gross, inflation_adjusted_gross = linea.split(',') \n",
    "            #print(linea.split(','))\n",
    "            movie_title = str(movie_title)\n",
    "            release_date = str(release_date)\n",
    "            genre = str(genre)\n",
    "            mpaa_rating = str(mpaa_rating)\n",
    "            total_gross = str(total_gross)\n",
    "            inflation_adjusted_gross = str(inflation_adjusted_gross)\n",
    "            tupla = (movie_title, release_date, genre, mpaa_rating, total_gross, inflation_adjusted_gross)\n",
    "            disney.append(tupla)\n",
    "    return disney"
   ]
  },
  {
   "cell_type": "code",
   "execution_count": 10,
   "id": "0e20a2bb",
   "metadata": {},
   "outputs": [
    {
     "name": "stdout",
     "output_type": "stream",
     "text": [
      "1 ('movie_title', 'release_date', 'genre', 'mpaa_rating', 'total_gross', 'inflation_adjusted_gross\\n')\n",
      "2 ('Snow White and the Seven Dwarfs', '1937-12-21', 'Musical', 'G', '184925485', '5228953251\\n')\n",
      "3 ('Pinocchio', '1940-02-09', 'Adventure', 'G', '84300000', '2188229052\\n')\n",
      "4 ('Fantasia', '1940-11-13', 'Musical', 'G', '83320000', '2187090808\\n')\n",
      "5 ('Song of the South', '1946-11-12', 'Adventure', 'G', '65000000', '1078510579\\n')\n",
      "6 ('Cinderella', '1950-02-15', 'Drama', 'G', '85000000', '920608730\\n')\n",
      "7 ('Lady and the Tramp', '1955-06-22', 'Drama', 'G', '93600000', '1236035515\\n')\n",
      "8 ('101 Dalmatians', '1961-01-25', 'Comedy', 'G', '153000000', '1362870985\\n')\n",
      "9 ('The Absent Minded Professor', '1961-03-16', 'Comedy', '', '25381407', '310094574\\n')\n",
      "10 ('Babes in Toyland', '1961-12-14', 'Musical', 'G', '10218316', '124841160\\n')\n",
      "11 ('Bon Voyage!', '1962-05-17', 'Comedy', 'Not Rated', '9230769', '109581646\\n')\n",
      "12 ('The Sword in the Stone', '1963-12-25', 'Adventure', '', '22182353', '153870834\\n')\n",
      "13 ('The Jungle Book', '1967-10-18', 'Musical', 'Not Rated', '141843000', '789612346\\n')\n",
      "14 (\"Blackbeard's Ghost\", '1968-02-08', 'Comedy', '', '21540050', '138612686\\n')\n",
      "15 ('The Aristocats', '1970-04-24', 'Musical', 'G', '55675257', '255161499\\n')\n"
     ]
    }
   ],
   "source": [
    "PELICULAS_DISNEY = lee_peliculas(\"disney_movies.csv\")\n",
    "mostrar_numerado(PELICULAS_DISNEY[:15])"
   ]
  },
  {
   "cell_type": "markdown",
   "id": "04339a6a",
   "metadata": {},
   "source": [
    "Al ejecutar la función esta nos da los datos de las películas que contenia el archivo csv."
   ]
  },
  {
   "cell_type": "markdown",
   "id": "bda88226",
   "metadata": {},
   "source": [
    "### 2. Funciones de Transformación y Filtrado"
   ]
  },
  {
   "cell_type": "markdown",
   "id": "19c3d0d6",
   "metadata": {},
   "source": [
    "Una vez hemos conseguido abrir nuestro fichero csv podemos empezar a trabajar con los datos de este."
   ]
  },
  {
   "cell_type": "markdown",
   "id": "8c1e3866",
   "metadata": {},
   "source": [
    "Es esta primera función trabajaremos con los datos de los distintos generos de las películas de disney. Des esta forma le pediremos al programa que extraiga todos los generos que Disney ha usado para sus películas y la cantidad de todos estos en total."
   ]
  },
  {
   "cell_type": "code",
   "execution_count": 11,
   "id": "8e32d20c",
   "metadata": {},
   "outputs": [],
   "source": [
    "def mostrar_numerado(coleccion):\n",
    "    i=0\n",
    "    for p in coleccion:\n",
    "        i=i+1\n",
    "        print(i,p)"
   ]
  },
  {
   "cell_type": "code",
   "execution_count": 12,
   "id": "497f5d8c",
   "metadata": {},
   "outputs": [],
   "source": [
    "def calcula_generos(disney):\n",
    "    \n",
    "    lista_peliculas= []\n",
    "    for tupla in PELICULAS_DISNEY:\n",
    "        genero= tupla[2] #el genero de las peliculas esta en la 3 posicion\n",
    "        lista_peliculas.append(genero)\n",
    "        \n",
    "    lista_peliculas = set(lista_peliculas)\n",
    "    return lista_peliculas"
   ]
  },
  {
   "cell_type": "code",
   "execution_count": 13,
   "id": "dbbc571c",
   "metadata": {},
   "outputs": [
    {
     "name": "stdout",
     "output_type": "stream",
     "text": [
      "1 \n",
      "2 Adventure\n",
      "3 Documentary\n",
      "4 Thriller/Suspense\n",
      "5 Concert/Performance\n",
      "6 Musical\n",
      "7 Drama\n",
      "8 Romantic Comedy\n",
      "9 Comedy\n",
      "10 Black Comedy\n",
      "11 Horror\n",
      "12 Western\n",
      "13 genre\n",
      "14 Action\n",
      "El número de distintos géneros con los que trabaja Disney es: 14\n"
     ]
    }
   ],
   "source": [
    "generos = calcula_generos(PELICULAS_DISNEY)\n",
    "mostrar_numerado(generos)\n",
    "print(\"El número de distintos géneros con los que trabaja Disney es:\", len(generos))"
   ]
  },
  {
   "cell_type": "markdown",
   "id": "6bc80e71",
   "metadata": {},
   "source": [
    "La segunda función que vamos a llevar a cabo en este apartado es la de filtrado"
   ]
  },
  {
   "cell_type": "code",
   "execution_count": 14,
   "id": "7d03898a",
   "metadata": {},
   "outputs": [],
   "source": [
    "def filtra_por_generos(disney, generos):\n",
    "    \n",
    "    filtradas= [(a) for a, b, c, d, e, f in PELICULAS_DISNEY if c in generos]\n",
    "    return filtradas"
   ]
  },
  {
   "cell_type": "code",
   "execution_count": 15,
   "id": "e3a39575",
   "metadata": {},
   "outputs": [
    {
     "name": "stdout",
     "output_type": "stream",
     "text": [
      "Encontradas 33 películas musicales:\n",
      "1 Snow White and the Seven Dwarfs\n",
      "2 Fantasia\n",
      "3 Babes in Toyland\n",
      "4 The Jungle Book\n",
      "5 The Aristocats\n",
      "6 Bedknobs and Broomsticks\n",
      "7 The Many Adventures of Winnie the Pooh\n",
      "8 Herbie Goes to Monte Carlo\n",
      "9 The Black Hole\n",
      "10 Midnight Madness\n",
      "11 The Last Flight of Noah’s Ark\n",
      "12 The Devil and Max Devlin\n",
      "13 Beauty and the Beast\n",
      "14 Newsies\n",
      "15 Passed Away\n",
      "16 A Gun in Betty Lou's Handbag\n",
      "17 Swing Kids\n",
      "18 Bound by Honor\n",
      "19 My Boyfriend's Back\n",
      "20 Father Hood\n",
      "21 The Nightmare Before Christmas\n",
      "22 Red Rock West\n",
      "23 The War at Home\n",
      "24 Evita\n",
      "25 Endurance\n",
      "26 Fantasia 2000 (IMAX)\n",
      "27 Fantasia 2000 (Theatrical Release)\n",
      "28 High Heels and Low Lifes\n",
      "29 Beauty and the Beast (IMAX)\n",
      "30 Frank McKlusky C.I.\n",
      "31 Tim Burton's The Nightmare Before Chr…\n",
      "32 High School Musical 3: Senior Year\n",
      "33 Into the Woods\n"
     ]
    }
   ],
   "source": [
    "#Probamos si funciona la función filtrada_por_generos\n",
    "filtrado_peliculas =  filtra_por_generos(PELICULAS_DISNEY, \"Musical\")\n",
    "print(\"Encontradas\", len (filtrado_peliculas),\"películas musicales:\")\n",
    "mostrar_numerado(filtrado_peliculas)"
   ]
  },
  {
   "cell_type": "markdown",
   "id": "2b5a15fb",
   "metadata": {},
   "source": [
    "Otro filtrado que podemos es el de el tipo de clasificación de las películas. En esta función le pedimos al programa que nos muestre todas aquellas películas que están clasificadas en rango \"R\", es decir, no recomendada para menores de 17 años."
   ]
  },
  {
   "cell_type": "code",
   "execution_count": 41,
   "id": "20bc4e98",
   "metadata": {},
   "outputs": [],
   "source": [
    "def filtra_por_clase(disney, clase):\n",
    "    \n",
    "    filtrado= [(a) for a, b, c, d, e, f in PELICULAS_DISNEY if d in clase]\n",
    "    return filtrado"
   ]
  },
  {
   "cell_type": "code",
   "execution_count": 48,
   "id": "186c67ed",
   "metadata": {},
   "outputs": [
    {
     "name": "stdout",
     "output_type": "stream",
     "text": [
      "Encontradas 155 películas clasificadas R:\n",
      "1 The Absent Minded Professor\n",
      "2 The Sword in the Stone\n",
      "3 Blackbeard's Ghost\n",
      "4 The Boatniks\n",
      "5 Bedknobs and Broomsticks\n",
      "6 The Apple Dumpling Gang\n",
      "7 Freaky Friday\n",
      "8 The Many Adventures of Winnie the Pooh\n",
      "9 The Rescuers\n",
      "10 Herbie Goes to Monte Carlo\n",
      "11 The Black Hole\n",
      "12 Midnight Madness\n",
      "13 The Last Flight of Noah’s Ark\n",
      "14 The Devil and Max Devlin\n",
      "15 Amy\n",
      "16 The Fox and the Hound\n",
      "17 Condorman\n",
      "18 Night Crossing\n",
      "Se han encontrado 155 películas con clasificación R, pero solo mostramos las 18 primeras.\n"
     ]
    }
   ],
   "source": [
    "#Probamos si funciona la función filtrada_por_generos\n",
    "filtrado_movies =  filtra_por_clase(PELICULAS_DISNEY, \"R\")\n",
    "print(\"Encontradas\", len (filtrado_movies),\"películas clasificadas R:\")\n",
    "mostrar_numerado(filtrado_movies[:18])\n",
    "print(\"Se han encontrado\", len(filtrado_movies), \"películas con clasificación R, pero solo mostramos las 18 primeras.\")"
   ]
  },
  {
   "cell_type": "markdown",
   "id": "1e5d07a8",
   "metadata": {},
   "source": [
    "De esta forma hemos creado una función que nos muestra todas aquellas películas con el género o la clasificación que deseemos buscar. De la misma forma le indicamos al programa que nos muestre la cantidad total de películas con dicho género."
   ]
  },
  {
   "cell_type": "markdown",
   "id": "54717b4e",
   "metadata": {},
   "source": [
    "### 2.1. Ordenar los Datos"
   ]
  },
  {
   "cell_type": "markdown",
   "id": "0e6fb402",
   "metadata": {},
   "source": [
    "La tercera de las funciones de esta sección es una función de ordenar. Con este tipo de funciones podemos ordenar los datos de nuestro fichero en función a un valor de mayor a menor.\n",
    "Con esta función podemos ordenar nuestras películas de mayor a menor en función de las ganacias."
   ]
  },
  {
   "cell_type": "code",
   "execution_count": 25,
   "id": "0b3c1c1f",
   "metadata": {},
   "outputs": [],
   "source": [
    "def ordena_por_ganacias(disney):\n",
    "\n",
    "    return sorted(disney, reverse=True, key=lambda x:x [4])"
   ]
  },
  {
   "cell_type": "code",
   "execution_count": 26,
   "id": "5071e80f",
   "metadata": {},
   "outputs": [
    {
     "name": "stdout",
     "output_type": "stream",
     "text": [
      "1 ('movie_title', 'release_date', 'genre', 'mpaa_rating', 'total_gross', 'inflation_adjusted_gross\\n')\n",
      "2 ('Gnomeo and Juliet', '2011-02-11', 'Comedy', 'G', '99967670', '106270797\\n')\n",
      "3 ('Hercules', '1997-06-13', 'Adventure', 'G', '99112101', '182029412\\n')\n",
      "4 ('Meet the Robinsons', '2007-03-30', 'Adventure', 'G', '97822171', '119860589\\n')\n",
      "5 ('Inspector Gadget', '1999-07-23', 'Comedy', 'PG', '97387965', '161610341\\n')\n",
      "6 ('Dead Poets Society', '1989-06-02', 'Drama', 'PG', '95860116', '202531517\\n')\n",
      "7 ('Scenes from a Mall', '1991-02-22', 'Comedy', '', '9563393', '19149495\\n')\n",
      "8 ('The Princess Diaries 2: Royal Engagement', '2004-08-11', 'Romantic Comedy', 'G', '95149435', '129164207\\n')\n",
      "9 ('Unbreakable', '2000-11-22', 'Thriller/Suspense', 'PG-13', '94999143', '148208901\\n')\n",
      "10 ('The Journey of Natty Gann', '1985-09-27', 'Drama', '', '9468512', '22302956\\n')\n",
      "11 ('Beverly Hills Chihuahua', '2008-10-03', 'Comedy', 'PG', '94514402', '110932022\\n')\n",
      "12 ('Star Wars Ep. VII: The Force Awakens', '2015-12-18', 'Adventure', 'PG-13', '936662225', '936662225\\n')\n",
      "13 ('Lady and the Tramp', '1955-06-22', 'Drama', 'G', '93600000', '1236035515\\n')\n",
      "14 ('Tomorrowland', '2015-05-22', 'Adventure', 'PG', '93436322', '93436322\\n')\n",
      "15 ('Flubber', '1997-11-26', 'Comedy', 'PG', '92993801', '170406423\\n')\n"
     ]
    }
   ],
   "source": [
    "mostrar_numerado(ordena_por_ganacias(PELICULAS_DISNEY)[:15])"
   ]
  },
  {
   "cell_type": "markdown",
   "id": "da2b9933",
   "metadata": {},
   "source": [
    "### 3. Funciones de Visualización"
   ]
  },
  {
   "cell_type": "code",
   "execution_count": 18,
   "id": "c6a3cc0a",
   "metadata": {},
   "outputs": [],
   "source": [
    "def muestra_evolucion_ganacias(disney):\n",
    "    ganancias= [c for _, _, c, _, _, _ in disney]\n",
    "    plt.plot(ganancias, label='ganancias')\n",
    "    plt.legend()\n",
    "    plt.show()"
   ]
  },
  {
   "cell_type": "code",
   "execution_count": 19,
   "id": "cc186435",
   "metadata": {},
   "outputs": [
    {
     "data": {
      "image/png": "[encoded data removed]",
      "text/plain": [
       "<Figure size 432x288 with 1 Axes>"
      ]
     },
     "metadata": {
      "needs_background": "light"
     },
     "output_type": "display_data"
    }
   ],
   "source": [
    "# Test de la función muestra_evolucion_ganancias\n",
    "muestra_evolucion_ganacias(PELICULAS_DISNEY)"
   ]
  },
  {
   "cell_type": "code",
   "execution_count": 20,
   "id": "69017ab7",
   "metadata": {},
   "outputs": [],
   "source": [
    "def muestra_medias_por_generos(disney):\n",
    "\n",
    "    # Calculamos la lista de ediciones\n",
    "    generos = calcula_generos(disney)\n",
    "    total_gross= [e for _,_,_,_,e,_ in disney]\n",
    "    # Componemos y visualizamos la gráfica\n",
    "    plt.bar(total_gross, generos)\n",
    "    plt.xticks(total_gross, total_gross, fontsize=8)\n",
    "    plt.show()"
   ]
  },
  {
   "cell_type": "code",
   "execution_count": 156,
   "id": "577ffdea",
   "metadata": {},
   "outputs": [
    {
     "ename": "TypeError",
     "evalue": "unhashable type: 'set'",
     "output_type": "error",
     "traceback": [
      "\u001b[1;31m---------------------------------------------------------------------------\u001b[0m",
      "\u001b[1;31mTypeError\u001b[0m                                 Traceback (most recent call last)",
      "Input \u001b[1;32mIn [156]\u001b[0m, in \u001b[0;36m<cell line: 1>\u001b[1;34m()\u001b[0m\n\u001b[1;32m----> 1\u001b[0m \u001b[43mmuestra_medias_por_generos\u001b[49m\u001b[43m(\u001b[49m\u001b[43mPELICULAS_DISNEY\u001b[49m\u001b[43m)\u001b[49m\n",
      "Input \u001b[1;32mIn [155]\u001b[0m, in \u001b[0;36mmuestra_medias_por_generos\u001b[1;34m(disney)\u001b[0m\n\u001b[0;32m      5\u001b[0m total_gross\u001b[38;5;241m=\u001b[39m [e \u001b[38;5;28;01mfor\u001b[39;00m _,_,_,_,e,_ \u001b[38;5;129;01min\u001b[39;00m disney]\n\u001b[0;32m      6\u001b[0m \u001b[38;5;66;03m# Componemos y visualizamos la gráfica\u001b[39;00m\n\u001b[1;32m----> 7\u001b[0m \u001b[43mplt\u001b[49m\u001b[38;5;241;43m.\u001b[39;49m\u001b[43mbar\u001b[49m\u001b[43m(\u001b[49m\u001b[43mtotal_gross\u001b[49m\u001b[43m,\u001b[49m\u001b[43m \u001b[49m\u001b[43mgeneros\u001b[49m\u001b[43m)\u001b[49m\n\u001b[0;32m      8\u001b[0m plt\u001b[38;5;241m.\u001b[39mxticks(total_gross, total_gross, fontsize\u001b[38;5;241m=\u001b[39m\u001b[38;5;241m8\u001b[39m)\n\u001b[0;32m      9\u001b[0m plt\u001b[38;5;241m.\u001b[39mshow()\n",
      "File \u001b[1;32m~\\anaconda3\\lib\\site-packages\\matplotlib\\pyplot.py:2387\u001b[0m, in \u001b[0;36mbar\u001b[1;34m(x, height, width, bottom, align, data, **kwargs)\u001b[0m\n\u001b[0;32m   2383\u001b[0m \u001b[38;5;129m@_copy_docstring_and_deprecators\u001b[39m(Axes\u001b[38;5;241m.\u001b[39mbar)\n\u001b[0;32m   2384\u001b[0m \u001b[38;5;28;01mdef\u001b[39;00m \u001b[38;5;21mbar\u001b[39m(\n\u001b[0;32m   2385\u001b[0m         x, height, width\u001b[38;5;241m=\u001b[39m\u001b[38;5;241m0.8\u001b[39m, bottom\u001b[38;5;241m=\u001b[39m\u001b[38;5;28;01mNone\u001b[39;00m, \u001b[38;5;241m*\u001b[39m, align\u001b[38;5;241m=\u001b[39m\u001b[38;5;124m'\u001b[39m\u001b[38;5;124mcenter\u001b[39m\u001b[38;5;124m'\u001b[39m,\n\u001b[0;32m   2386\u001b[0m         data\u001b[38;5;241m=\u001b[39m\u001b[38;5;28;01mNone\u001b[39;00m, \u001b[38;5;241m*\u001b[39m\u001b[38;5;241m*\u001b[39mkwargs):\n\u001b[1;32m-> 2387\u001b[0m     \u001b[38;5;28;01mreturn\u001b[39;00m gca()\u001b[38;5;241m.\u001b[39mbar(\n\u001b[0;32m   2388\u001b[0m         x, height, width\u001b[38;5;241m=\u001b[39mwidth, bottom\u001b[38;5;241m=\u001b[39mbottom, align\u001b[38;5;241m=\u001b[39malign,\n\u001b[0;32m   2389\u001b[0m         \u001b[38;5;241m*\u001b[39m\u001b[38;5;241m*\u001b[39m({\u001b[38;5;124m\"\u001b[39m\u001b[38;5;124mdata\u001b[39m\u001b[38;5;124m\"\u001b[39m: data} \u001b[38;5;28;01mif\u001b[39;00m data \u001b[38;5;129;01mis\u001b[39;00m \u001b[38;5;129;01mnot\u001b[39;00m \u001b[38;5;28;01mNone\u001b[39;00m \u001b[38;5;28;01melse\u001b[39;00m {}), \u001b[38;5;241m*\u001b[39m\u001b[38;5;241m*\u001b[39mkwargs)\n",
      "File \u001b[1;32m~\\anaconda3\\lib\\site-packages\\matplotlib\\__init__.py:1412\u001b[0m, in \u001b[0;36m_preprocess_data.<locals>.inner\u001b[1;34m(ax, data, *args, **kwargs)\u001b[0m\n\u001b[0;32m   1409\u001b[0m \u001b[38;5;129m@functools\u001b[39m\u001b[38;5;241m.\u001b[39mwraps(func)\n\u001b[0;32m   1410\u001b[0m \u001b[38;5;28;01mdef\u001b[39;00m \u001b[38;5;21minner\u001b[39m(ax, \u001b[38;5;241m*\u001b[39margs, data\u001b[38;5;241m=\u001b[39m\u001b[38;5;28;01mNone\u001b[39;00m, \u001b[38;5;241m*\u001b[39m\u001b[38;5;241m*\u001b[39mkwargs):\n\u001b[0;32m   1411\u001b[0m     \u001b[38;5;28;01mif\u001b[39;00m data \u001b[38;5;129;01mis\u001b[39;00m \u001b[38;5;28;01mNone\u001b[39;00m:\n\u001b[1;32m-> 1412\u001b[0m         \u001b[38;5;28;01mreturn\u001b[39;00m func(ax, \u001b[38;5;241m*\u001b[39m\u001b[38;5;28mmap\u001b[39m(sanitize_sequence, args), \u001b[38;5;241m*\u001b[39m\u001b[38;5;241m*\u001b[39mkwargs)\n\u001b[0;32m   1414\u001b[0m     bound \u001b[38;5;241m=\u001b[39m new_sig\u001b[38;5;241m.\u001b[39mbind(ax, \u001b[38;5;241m*\u001b[39margs, \u001b[38;5;241m*\u001b[39m\u001b[38;5;241m*\u001b[39mkwargs)\n\u001b[0;32m   1415\u001b[0m     auto_label \u001b[38;5;241m=\u001b[39m (bound\u001b[38;5;241m.\u001b[39marguments\u001b[38;5;241m.\u001b[39mget(label_namer)\n\u001b[0;32m   1416\u001b[0m                   \u001b[38;5;129;01mor\u001b[39;00m bound\u001b[38;5;241m.\u001b[39mkwargs\u001b[38;5;241m.\u001b[39mget(label_namer))\n",
      "File \u001b[1;32m~\\anaconda3\\lib\\site-packages\\matplotlib\\axes\\_axes.py:2317\u001b[0m, in \u001b[0;36mAxes.bar\u001b[1;34m(self, x, height, width, bottom, align, **kwargs)\u001b[0m\n\u001b[0;32m   2314\u001b[0m         x \u001b[38;5;241m=\u001b[39m \u001b[38;5;241m0\u001b[39m\n\u001b[0;32m   2316\u001b[0m \u001b[38;5;28;01mif\u001b[39;00m orientation \u001b[38;5;241m==\u001b[39m \u001b[38;5;124m'\u001b[39m\u001b[38;5;124mvertical\u001b[39m\u001b[38;5;124m'\u001b[39m:\n\u001b[1;32m-> 2317\u001b[0m     \u001b[38;5;28;43mself\u001b[39;49m\u001b[38;5;241;43m.\u001b[39;49m\u001b[43m_process_unit_info\u001b[49m\u001b[43m(\u001b[49m\n\u001b[0;32m   2318\u001b[0m \u001b[43m        \u001b[49m\u001b[43m[\u001b[49m\u001b[43m(\u001b[49m\u001b[38;5;124;43m\"\u001b[39;49m\u001b[38;5;124;43mx\u001b[39;49m\u001b[38;5;124;43m\"\u001b[39;49m\u001b[43m,\u001b[49m\u001b[43m \u001b[49m\u001b[43mx\u001b[49m\u001b[43m)\u001b[49m\u001b[43m,\u001b[49m\u001b[43m \u001b[49m\u001b[43m(\u001b[49m\u001b[38;5;124;43m\"\u001b[39;49m\u001b[38;5;124;43my\u001b[39;49m\u001b[38;5;124;43m\"\u001b[39;49m\u001b[43m,\u001b[49m\u001b[43m \u001b[49m\u001b[43mheight\u001b[49m\u001b[43m)\u001b[49m\u001b[43m]\u001b[49m\u001b[43m,\u001b[49m\u001b[43m \u001b[49m\u001b[43mkwargs\u001b[49m\u001b[43m,\u001b[49m\u001b[43m \u001b[49m\u001b[43mconvert\u001b[49m\u001b[38;5;241;43m=\u001b[39;49m\u001b[38;5;28;43;01mFalse\u001b[39;49;00m\u001b[43m)\u001b[49m\n\u001b[0;32m   2319\u001b[0m     \u001b[38;5;28;01mif\u001b[39;00m log:\n\u001b[0;32m   2320\u001b[0m         \u001b[38;5;28mself\u001b[39m\u001b[38;5;241m.\u001b[39mset_yscale(\u001b[38;5;124m'\u001b[39m\u001b[38;5;124mlog\u001b[39m\u001b[38;5;124m'\u001b[39m, nonpositive\u001b[38;5;241m=\u001b[39m\u001b[38;5;124m'\u001b[39m\u001b[38;5;124mclip\u001b[39m\u001b[38;5;124m'\u001b[39m)\n",
      "File \u001b[1;32m~\\anaconda3\\lib\\site-packages\\matplotlib\\axes\\_base.py:2521\u001b[0m, in \u001b[0;36m_AxesBase._process_unit_info\u001b[1;34m(self, datasets, kwargs, convert)\u001b[0m\n\u001b[0;32m   2519\u001b[0m     \u001b[38;5;66;03m# Update from data if axis is already set but no unit is set yet.\u001b[39;00m\n\u001b[0;32m   2520\u001b[0m     \u001b[38;5;28;01mif\u001b[39;00m axis \u001b[38;5;129;01mis\u001b[39;00m \u001b[38;5;129;01mnot\u001b[39;00m \u001b[38;5;28;01mNone\u001b[39;00m \u001b[38;5;129;01mand\u001b[39;00m data \u001b[38;5;129;01mis\u001b[39;00m \u001b[38;5;129;01mnot\u001b[39;00m \u001b[38;5;28;01mNone\u001b[39;00m \u001b[38;5;129;01mand\u001b[39;00m \u001b[38;5;129;01mnot\u001b[39;00m axis\u001b[38;5;241m.\u001b[39mhave_units():\n\u001b[1;32m-> 2521\u001b[0m         \u001b[43maxis\u001b[49m\u001b[38;5;241;43m.\u001b[39;49m\u001b[43mupdate_units\u001b[49m\u001b[43m(\u001b[49m\u001b[43mdata\u001b[49m\u001b[43m)\u001b[49m\n\u001b[0;32m   2522\u001b[0m \u001b[38;5;28;01mfor\u001b[39;00m axis_name, axis \u001b[38;5;129;01min\u001b[39;00m axis_map\u001b[38;5;241m.\u001b[39mitems():\n\u001b[0;32m   2523\u001b[0m     \u001b[38;5;66;03m# Return if no axis is set.\u001b[39;00m\n\u001b[0;32m   2524\u001b[0m     \u001b[38;5;28;01mif\u001b[39;00m axis \u001b[38;5;129;01mis\u001b[39;00m \u001b[38;5;28;01mNone\u001b[39;00m:\n",
      "File \u001b[1;32m~\\anaconda3\\lib\\site-packages\\matplotlib\\axis.py:1449\u001b[0m, in \u001b[0;36mAxis.update_units\u001b[1;34m(self, data)\u001b[0m\n\u001b[0;32m   1447\u001b[0m neednew \u001b[38;5;241m=\u001b[39m \u001b[38;5;28mself\u001b[39m\u001b[38;5;241m.\u001b[39mconverter \u001b[38;5;241m!=\u001b[39m converter\n\u001b[0;32m   1448\u001b[0m \u001b[38;5;28mself\u001b[39m\u001b[38;5;241m.\u001b[39mconverter \u001b[38;5;241m=\u001b[39m converter\n\u001b[1;32m-> 1449\u001b[0m default \u001b[38;5;241m=\u001b[39m \u001b[38;5;28;43mself\u001b[39;49m\u001b[38;5;241;43m.\u001b[39;49m\u001b[43mconverter\u001b[49m\u001b[38;5;241;43m.\u001b[39;49m\u001b[43mdefault_units\u001b[49m\u001b[43m(\u001b[49m\u001b[43mdata\u001b[49m\u001b[43m,\u001b[49m\u001b[43m \u001b[49m\u001b[38;5;28;43mself\u001b[39;49m\u001b[43m)\u001b[49m\n\u001b[0;32m   1450\u001b[0m \u001b[38;5;28;01mif\u001b[39;00m default \u001b[38;5;129;01mis\u001b[39;00m \u001b[38;5;129;01mnot\u001b[39;00m \u001b[38;5;28;01mNone\u001b[39;00m \u001b[38;5;129;01mand\u001b[39;00m \u001b[38;5;28mself\u001b[39m\u001b[38;5;241m.\u001b[39munits \u001b[38;5;129;01mis\u001b[39;00m \u001b[38;5;28;01mNone\u001b[39;00m:\n\u001b[0;32m   1451\u001b[0m     \u001b[38;5;28mself\u001b[39m\u001b[38;5;241m.\u001b[39mset_units(default)\n",
      "File \u001b[1;32m~\\anaconda3\\lib\\site-packages\\matplotlib\\category.py:116\u001b[0m, in \u001b[0;36mStrCategoryConverter.default_units\u001b[1;34m(data, axis)\u001b[0m\n\u001b[0;32m    114\u001b[0m \u001b[38;5;66;03m# the conversion call stack is default_units -> axis_info -> convert\u001b[39;00m\n\u001b[0;32m    115\u001b[0m \u001b[38;5;28;01mif\u001b[39;00m axis\u001b[38;5;241m.\u001b[39munits \u001b[38;5;129;01mis\u001b[39;00m \u001b[38;5;28;01mNone\u001b[39;00m:\n\u001b[1;32m--> 116\u001b[0m     axis\u001b[38;5;241m.\u001b[39mset_units(\u001b[43mUnitData\u001b[49m\u001b[43m(\u001b[49m\u001b[43mdata\u001b[49m\u001b[43m)\u001b[49m)\n\u001b[0;32m    117\u001b[0m \u001b[38;5;28;01melse\u001b[39;00m:\n\u001b[0;32m    118\u001b[0m     axis\u001b[38;5;241m.\u001b[39munits\u001b[38;5;241m.\u001b[39mupdate(data)\n",
      "File \u001b[1;32m~\\anaconda3\\lib\\site-packages\\matplotlib\\category.py:192\u001b[0m, in \u001b[0;36mUnitData.__init__\u001b[1;34m(self, data)\u001b[0m\n\u001b[0;32m    190\u001b[0m \u001b[38;5;28mself\u001b[39m\u001b[38;5;241m.\u001b[39m_counter \u001b[38;5;241m=\u001b[39m itertools\u001b[38;5;241m.\u001b[39mcount()\n\u001b[0;32m    191\u001b[0m \u001b[38;5;28;01mif\u001b[39;00m data \u001b[38;5;129;01mis\u001b[39;00m \u001b[38;5;129;01mnot\u001b[39;00m \u001b[38;5;28;01mNone\u001b[39;00m:\n\u001b[1;32m--> 192\u001b[0m     \u001b[38;5;28;43mself\u001b[39;49m\u001b[38;5;241;43m.\u001b[39;49m\u001b[43mupdate\u001b[49m\u001b[43m(\u001b[49m\u001b[43mdata\u001b[49m\u001b[43m)\u001b[49m\n",
      "File \u001b[1;32m~\\anaconda3\\lib\\site-packages\\matplotlib\\category.py:225\u001b[0m, in \u001b[0;36mUnitData.update\u001b[1;34m(self, data)\u001b[0m\n\u001b[0;32m    223\u001b[0m \u001b[38;5;66;03m# check if convertible to number:\u001b[39;00m\n\u001b[0;32m    224\u001b[0m convertible \u001b[38;5;241m=\u001b[39m \u001b[38;5;28;01mTrue\u001b[39;00m\n\u001b[1;32m--> 225\u001b[0m \u001b[38;5;28;01mfor\u001b[39;00m val \u001b[38;5;129;01min\u001b[39;00m \u001b[43mOrderedDict\u001b[49m\u001b[38;5;241;43m.\u001b[39;49m\u001b[43mfromkeys\u001b[49m\u001b[43m(\u001b[49m\u001b[43mdata\u001b[49m\u001b[43m)\u001b[49m:\n\u001b[0;32m    226\u001b[0m     \u001b[38;5;66;03m# OrderedDict just iterates over unique values in data.\u001b[39;00m\n\u001b[0;32m    227\u001b[0m     _api\u001b[38;5;241m.\u001b[39mcheck_isinstance((\u001b[38;5;28mstr\u001b[39m, \u001b[38;5;28mbytes\u001b[39m), value\u001b[38;5;241m=\u001b[39mval)\n\u001b[0;32m    228\u001b[0m     \u001b[38;5;28;01mif\u001b[39;00m convertible:\n\u001b[0;32m    229\u001b[0m         \u001b[38;5;66;03m# this will only be called so long as convertible is True.\u001b[39;00m\n",
      "\u001b[1;31mTypeError\u001b[0m: unhashable type: 'set'"
     ]
    },
    {
     "data": {
      "image/png": "[encoded data removed]",
      "text/plain": [
       "<Figure size 432x288 with 1 Axes>"
      ]
     },
     "metadata": {
      "needs_background": "light"
     },
     "output_type": "display_data"
    }
   ],
   "source": [
    "muestra_medias_por_generos(PELICULAS_DISNEY)"
   ]
  },
  {
   "cell_type": "code",
   "execution_count": null,
   "id": "59f749c2",
   "metadata": {},
   "outputs": [],
   "source": []
  }
 ],
 "metadata": {
  "kernelspec": {
   "display_name": "Python 3 (ipykernel)",
   "language": "python",
   "name": "python3"
  },
  "language_info": {
   "codemirror_mode": {
    "name": "ipython",
    "version": 3
   },
   "file_extension": ".py",
   "mimetype": "text/x-python",
   "name": "python",
   "nbconvert_exporter": "python",
   "pygments_lexer": "ipython3",
   "version": "3.9.12"
  }
 },
 "nbformat": 4,
 "nbformat_minor": 5
}
